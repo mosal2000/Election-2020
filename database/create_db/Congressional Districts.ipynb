{
 "cells": [
  {
   "cell_type": "code",
   "execution_count": 1,
   "metadata": {},
   "outputs": [],
   "source": [
    "import pandas as pd\n",
    "from sqlalchemy import create_engine\n",
    "\n",
    "import pymysql\n",
    "pymysql.install_as_MySQLdb()"
   ]
  },
  {
   "cell_type": "code",
   "execution_count": 3,
   "metadata": {},
   "outputs": [
    {
     "data": {
      "text/html": [
       "<div>\n",
       "<style scoped>\n",
       "    .dataframe tbody tr th:only-of-type {\n",
       "        vertical-align: middle;\n",
       "    }\n",
       "\n",
       "    .dataframe tbody tr th {\n",
       "        vertical-align: top;\n",
       "    }\n",
       "\n",
       "    .dataframe thead th {\n",
       "        text-align: right;\n",
       "    }\n",
       "</style>\n",
       "<table border=\"1\" class=\"dataframe\">\n",
       "  <thead>\n",
       "    <tr style=\"text-align: right;\">\n",
       "      <th></th>\n",
       "      <th>State</th>\n",
       "      <th>State Name</th>\n",
       "      <th>Abbrev</th>\n",
       "      <th>115th Cong. Dist</th>\n",
       "      <th>2012 NAICS Code</th>\n",
       "      <th>NAICS Description</th>\n",
       "      <th>Employment</th>\n",
       "      <th>Empl. - data flag</th>\n",
       "      <th>Empl. - noise flag</th>\n",
       "      <th>1st quarter payroll ($1,000)</th>\n",
       "      <th>1st quarter payroll - noise flag</th>\n",
       "      <th>Annual payroll ($1,000)</th>\n",
       "      <th>Annual payroll - noise flag</th>\n",
       "      <th>Number of establishments</th>\n",
       "    </tr>\n",
       "  </thead>\n",
       "  <tbody>\n",
       "    <tr>\n",
       "      <th>0</th>\n",
       "      <td>1</td>\n",
       "      <td>Alabama</td>\n",
       "      <td>AL</td>\n",
       "      <td>1</td>\n",
       "      <td>------</td>\n",
       "      <td>Total for all sectors</td>\n",
       "      <td>236,720</td>\n",
       "      <td>NaN</td>\n",
       "      <td>G</td>\n",
       "      <td>2,194,826</td>\n",
       "      <td>G</td>\n",
       "      <td>9,449,314</td>\n",
       "      <td>G</td>\n",
       "      <td>15,611</td>\n",
       "    </tr>\n",
       "    <tr>\n",
       "      <th>1</th>\n",
       "      <td>1</td>\n",
       "      <td>Alabama</td>\n",
       "      <td>AL</td>\n",
       "      <td>2</td>\n",
       "      <td>------</td>\n",
       "      <td>Total for all sectors</td>\n",
       "      <td>215,224</td>\n",
       "      <td>NaN</td>\n",
       "      <td>G</td>\n",
       "      <td>1,951,501</td>\n",
       "      <td>G</td>\n",
       "      <td>8,266,520</td>\n",
       "      <td>G</td>\n",
       "      <td>14,252</td>\n",
       "    </tr>\n",
       "    <tr>\n",
       "      <th>2</th>\n",
       "      <td>1</td>\n",
       "      <td>Alabama</td>\n",
       "      <td>AL</td>\n",
       "      <td>3</td>\n",
       "      <td>------</td>\n",
       "      <td>Total for all sectors</td>\n",
       "      <td>179,100</td>\n",
       "      <td>NaN</td>\n",
       "      <td>G</td>\n",
       "      <td>1,451,497</td>\n",
       "      <td>G</td>\n",
       "      <td>6,150,074</td>\n",
       "      <td>G</td>\n",
       "      <td>11,510</td>\n",
       "    </tr>\n",
       "    <tr>\n",
       "      <th>3</th>\n",
       "      <td>1</td>\n",
       "      <td>Alabama</td>\n",
       "      <td>AL</td>\n",
       "      <td>4</td>\n",
       "      <td>------</td>\n",
       "      <td>Total for all sectors</td>\n",
       "      <td>188,796</td>\n",
       "      <td>NaN</td>\n",
       "      <td>G</td>\n",
       "      <td>1,550,243</td>\n",
       "      <td>G</td>\n",
       "      <td>6,497,936</td>\n",
       "      <td>G</td>\n",
       "      <td>12,538</td>\n",
       "    </tr>\n",
       "    <tr>\n",
       "      <th>4</th>\n",
       "      <td>1</td>\n",
       "      <td>Alabama</td>\n",
       "      <td>AL</td>\n",
       "      <td>5</td>\n",
       "      <td>------</td>\n",
       "      <td>Total for all sectors</td>\n",
       "      <td>255,797</td>\n",
       "      <td>NaN</td>\n",
       "      <td>G</td>\n",
       "      <td>2,732,797</td>\n",
       "      <td>G</td>\n",
       "      <td>11,465,689</td>\n",
       "      <td>G</td>\n",
       "      <td>15,137</td>\n",
       "    </tr>\n",
       "  </tbody>\n",
       "</table>\n",
       "</div>"
      ],
      "text/plain": [
       "   State State Name Abbrev  115th Cong. Dist 2012 NAICS Code  \\\n",
       "0      1  Alabama       AL                 1          ------   \n",
       "1      1  Alabama       AL                 2          ------   \n",
       "2      1  Alabama       AL                 3          ------   \n",
       "3      1  Alabama       AL                 4          ------   \n",
       "4      1  Alabama       AL                 5          ------   \n",
       "\n",
       "       NAICS Description Employment  Empl. - data flag Empl. - noise flag  \\\n",
       "0  Total for all sectors    236,720                NaN                  G   \n",
       "1  Total for all sectors    215,224                NaN                  G   \n",
       "2  Total for all sectors    179,100                NaN                  G   \n",
       "3  Total for all sectors    188,796                NaN                  G   \n",
       "4  Total for all sectors    255,797                NaN                  G   \n",
       "\n",
       "   1st quarter payroll ($1,000)  1st quarter payroll - noise flag  \\\n",
       "0                      2,194,826                                G   \n",
       "1                      1,951,501                                G   \n",
       "2                      1,451,497                                G   \n",
       "3                      1,550,243                                G   \n",
       "4                      2,732,797                                G   \n",
       "\n",
       "   Annual payroll ($1,000)  Annual payroll - noise flag  \\\n",
       "0                 9,449,314                           G   \n",
       "1                 8,266,520                           G   \n",
       "2                 6,150,074                           G   \n",
       "3                 6,497,936                           G   \n",
       "4                11,465,689                           G   \n",
       "\n",
       "   Number of establishments   \n",
       "0                     15,611  \n",
       "1                     14,252  \n",
       "2                     11,510  \n",
       "3                     12,538  \n",
       "4                     15,137  "
      ]
     },
     "execution_count": 3,
     "metadata": {},
     "output_type": "execute_result"
    }
   ],
   "source": [
    "employment_file = \"Resources/US districts.csv\"\n",
    "employment_df = pd.read_csv(employment_file)\n",
    "employment_df.head()"
   ]
  },
  {
   "cell_type": "code",
   "execution_count": 4,
   "metadata": {},
   "outputs": [
    {
     "data": {
      "text/plain": [
       "array(['State', 'State Name', 'Abbrev', '115th Cong. Dist',\n",
       "       '2012 NAICS Code', 'NAICS Description', 'Employment',\n",
       "       'Empl. - data flag', 'Empl. - noise flag',\n",
       "       ' 1st quarter payroll ($1,000) ',\n",
       "       '1st quarter payroll - noise flag', ' Annual payroll ($1,000) ',\n",
       "       'Annual payroll - noise flag', ' Number of establishments '],\n",
       "      dtype=object)"
      ]
     },
     "execution_count": 4,
     "metadata": {},
     "output_type": "execute_result"
    }
   ],
   "source": [
    "employment_df.columns.values"
   ]
  },
  {
   "cell_type": "code",
   "execution_count": 5,
   "metadata": {},
   "outputs": [
    {
     "data": {
      "text/html": [
       "<div>\n",
       "<style scoped>\n",
       "    .dataframe tbody tr th:only-of-type {\n",
       "        vertical-align: middle;\n",
       "    }\n",
       "\n",
       "    .dataframe tbody tr th {\n",
       "        vertical-align: top;\n",
       "    }\n",
       "\n",
       "    .dataframe thead th {\n",
       "        text-align: right;\n",
       "    }\n",
       "</style>\n",
       "<table border=\"1\" class=\"dataframe\">\n",
       "  <thead>\n",
       "    <tr style=\"text-align: right;\">\n",
       "      <th></th>\n",
       "      <th>Abbrev</th>\n",
       "      <th>115th Cong. Dist</th>\n",
       "    </tr>\n",
       "  </thead>\n",
       "  <tbody>\n",
       "    <tr>\n",
       "      <th>0</th>\n",
       "      <td>AL</td>\n",
       "      <td>1</td>\n",
       "    </tr>\n",
       "    <tr>\n",
       "      <th>1</th>\n",
       "      <td>AL</td>\n",
       "      <td>2</td>\n",
       "    </tr>\n",
       "    <tr>\n",
       "      <th>2</th>\n",
       "      <td>AL</td>\n",
       "      <td>3</td>\n",
       "    </tr>\n",
       "    <tr>\n",
       "      <th>3</th>\n",
       "      <td>AL</td>\n",
       "      <td>4</td>\n",
       "    </tr>\n",
       "    <tr>\n",
       "      <th>4</th>\n",
       "      <td>AL</td>\n",
       "      <td>5</td>\n",
       "    </tr>\n",
       "  </tbody>\n",
       "</table>\n",
       "</div>"
      ],
      "text/plain": [
       "  Abbrev  115th Cong. Dist\n",
       "0     AL                 1\n",
       "1     AL                 2\n",
       "2     AL                 3\n",
       "3     AL                 4\n",
       "4     AL                 5"
      ]
     },
     "execution_count": 5,
     "metadata": {},
     "output_type": "execute_result"
    }
   ],
   "source": [
    "employment1_df = employment_df[['Abbrev', '115th Cong. Dist']].copy()\n",
    "employment1_df.head()"
   ]
  },
  {
   "cell_type": "code",
   "execution_count": 6,
   "metadata": {},
   "outputs": [
    {
     "data": {
      "text/html": [
       "<div>\n",
       "<style scoped>\n",
       "    .dataframe tbody tr th:only-of-type {\n",
       "        vertical-align: middle;\n",
       "    }\n",
       "\n",
       "    .dataframe tbody tr th {\n",
       "        vertical-align: top;\n",
       "    }\n",
       "\n",
       "    .dataframe thead th {\n",
       "        text-align: right;\n",
       "    }\n",
       "</style>\n",
       "<table border=\"1\" class=\"dataframe\">\n",
       "  <thead>\n",
       "    <tr style=\"text-align: right;\">\n",
       "      <th></th>\n",
       "      <th>state</th>\n",
       "      <th>district</th>\n",
       "    </tr>\n",
       "  </thead>\n",
       "  <tbody>\n",
       "    <tr>\n",
       "      <th>0</th>\n",
       "      <td>AL</td>\n",
       "      <td>1</td>\n",
       "    </tr>\n",
       "    <tr>\n",
       "      <th>1</th>\n",
       "      <td>AL</td>\n",
       "      <td>2</td>\n",
       "    </tr>\n",
       "    <tr>\n",
       "      <th>2</th>\n",
       "      <td>AL</td>\n",
       "      <td>3</td>\n",
       "    </tr>\n",
       "    <tr>\n",
       "      <th>3</th>\n",
       "      <td>AL</td>\n",
       "      <td>4</td>\n",
       "    </tr>\n",
       "    <tr>\n",
       "      <th>4</th>\n",
       "      <td>AL</td>\n",
       "      <td>5</td>\n",
       "    </tr>\n",
       "  </tbody>\n",
       "</table>\n",
       "</div>"
      ],
      "text/plain": [
       "  state  district\n",
       "0    AL         1\n",
       "1    AL         2\n",
       "2    AL         3\n",
       "3    AL         4\n",
       "4    AL         5"
      ]
     },
     "execution_count": 6,
     "metadata": {},
     "output_type": "execute_result"
    }
   ],
   "source": [
    "employment1_df = employment1_df.rename(columns={\"Abbrev\":\"state\",\"115th Cong. Dist\":\"district\",\"Employment\":\"employment\", \" Annual payroll ($1,000) \":\"annual_payroll_in_1000\", \" Number of establishments \":\"num_of_establishment\"})\n",
    "employment1_df.head()"
   ]
  },
  {
   "cell_type": "code",
   "execution_count": 7,
   "metadata": {},
   "outputs": [],
   "source": [
    "employment1_df.loc[employment1_df.district == 0, 'district'] = \"00\"\n",
    "employment1_df.loc[employment1_df.district == 1, 'district'] = \"01\"\n",
    "employment1_df.loc[employment1_df.district == 2, 'district'] = \"02\"\n",
    "employment1_df.loc[employment1_df.district == 3, 'district'] = \"03\"\n",
    "employment1_df.loc[employment1_df.district == 4, 'district'] = \"04\"\n",
    "employment1_df.loc[employment1_df.district == 5, 'district'] = \"05\"\n",
    "employment1_df.loc[employment1_df.district == 6, 'district'] = \"06\"\n",
    "employment1_df.loc[employment1_df.district == 7, 'district'] = \"07\"\n",
    "employment1_df.loc[employment1_df.district == 8, 'district'] = \"08\"\n",
    "employment1_df.loc[employment1_df.district == 9, 'district'] = \"09\"\n"
   ]
  },
  {
   "cell_type": "code",
   "execution_count": 8,
   "metadata": {},
   "outputs": [
    {
     "data": {
      "text/html": [
       "<div>\n",
       "<style scoped>\n",
       "    .dataframe tbody tr th:only-of-type {\n",
       "        vertical-align: middle;\n",
       "    }\n",
       "\n",
       "    .dataframe tbody tr th {\n",
       "        vertical-align: top;\n",
       "    }\n",
       "\n",
       "    .dataframe thead th {\n",
       "        text-align: right;\n",
       "    }\n",
       "</style>\n",
       "<table border=\"1\" class=\"dataframe\">\n",
       "  <thead>\n",
       "    <tr style=\"text-align: right;\">\n",
       "      <th></th>\n",
       "      <th>state</th>\n",
       "      <th>district</th>\n",
       "    </tr>\n",
       "  </thead>\n",
       "  <tbody>\n",
       "    <tr>\n",
       "      <th>0</th>\n",
       "      <td>AL</td>\n",
       "      <td>01</td>\n",
       "    </tr>\n",
       "    <tr>\n",
       "      <th>1</th>\n",
       "      <td>AL</td>\n",
       "      <td>02</td>\n",
       "    </tr>\n",
       "    <tr>\n",
       "      <th>2</th>\n",
       "      <td>AL</td>\n",
       "      <td>03</td>\n",
       "    </tr>\n",
       "    <tr>\n",
       "      <th>3</th>\n",
       "      <td>AL</td>\n",
       "      <td>04</td>\n",
       "    </tr>\n",
       "    <tr>\n",
       "      <th>4</th>\n",
       "      <td>AL</td>\n",
       "      <td>05</td>\n",
       "    </tr>\n",
       "  </tbody>\n",
       "</table>\n",
       "</div>"
      ],
      "text/plain": [
       "  state district\n",
       "0    AL       01\n",
       "1    AL       02\n",
       "2    AL       03\n",
       "3    AL       04\n",
       "4    AL       05"
      ]
     },
     "execution_count": 8,
     "metadata": {},
     "output_type": "execute_result"
    }
   ],
   "source": [
    "employment1_df.head()"
   ]
  },
  {
   "cell_type": "code",
   "execution_count": 9,
   "metadata": {},
   "outputs": [
    {
     "data": {
      "text/plain": [
       "0    AL_01\n",
       "1    AL_02\n",
       "2    AL_03\n",
       "3    AL_04\n",
       "4    AL_05\n",
       "dtype: object"
      ]
     },
     "execution_count": 9,
     "metadata": {},
     "output_type": "execute_result"
    }
   ],
   "source": [
    "state_dist_df = employment1_df['state'] + '_' +  employment1_df['district'].astype(str)\n",
    "state_dist_df.head()"
   ]
  },
  {
   "cell_type": "code",
   "execution_count": 10,
   "metadata": {},
   "outputs": [
    {
     "data": {
      "text/html": [
       "<div>\n",
       "<style scoped>\n",
       "    .dataframe tbody tr th:only-of-type {\n",
       "        vertical-align: middle;\n",
       "    }\n",
       "\n",
       "    .dataframe tbody tr th {\n",
       "        vertical-align: top;\n",
       "    }\n",
       "\n",
       "    .dataframe thead th {\n",
       "        text-align: right;\n",
       "    }\n",
       "</style>\n",
       "<table border=\"1\" class=\"dataframe\">\n",
       "  <thead>\n",
       "    <tr style=\"text-align: right;\">\n",
       "      <th></th>\n",
       "      <th>state_dist</th>\n",
       "      <th>state</th>\n",
       "      <th>district</th>\n",
       "    </tr>\n",
       "  </thead>\n",
       "  <tbody>\n",
       "    <tr>\n",
       "      <th>0</th>\n",
       "      <td>AL_01</td>\n",
       "      <td>AL</td>\n",
       "      <td>01</td>\n",
       "    </tr>\n",
       "    <tr>\n",
       "      <th>1</th>\n",
       "      <td>AL_02</td>\n",
       "      <td>AL</td>\n",
       "      <td>02</td>\n",
       "    </tr>\n",
       "    <tr>\n",
       "      <th>2</th>\n",
       "      <td>AL_03</td>\n",
       "      <td>AL</td>\n",
       "      <td>03</td>\n",
       "    </tr>\n",
       "    <tr>\n",
       "      <th>3</th>\n",
       "      <td>AL_04</td>\n",
       "      <td>AL</td>\n",
       "      <td>04</td>\n",
       "    </tr>\n",
       "    <tr>\n",
       "      <th>4</th>\n",
       "      <td>AL_05</td>\n",
       "      <td>AL</td>\n",
       "      <td>05</td>\n",
       "    </tr>\n",
       "  </tbody>\n",
       "</table>\n",
       "</div>"
      ],
      "text/plain": [
       "  state_dist state district\n",
       "0      AL_01    AL       01\n",
       "1      AL_02    AL       02\n",
       "2      AL_03    AL       03\n",
       "3      AL_04    AL       04\n",
       "4      AL_05    AL       05"
      ]
     },
     "execution_count": 10,
     "metadata": {},
     "output_type": "execute_result"
    }
   ],
   "source": [
    "employment1_df.insert(loc=0, column='state_dist', value=state_dist_df)\n",
    "employment1_df.head()"
   ]
  },
  {
   "cell_type": "code",
   "execution_count": 11,
   "metadata": {},
   "outputs": [],
   "source": [
    "connection_string = \"root:NewPassword@localhost:3306/election_prediction_db\"\n",
    "engine = create_engine(f'mysql://{connection_string}')"
   ]
  },
  {
   "cell_type": "code",
   "execution_count": 12,
   "metadata": {},
   "outputs": [
    {
     "name": "stderr",
     "output_type": "stream",
     "text": [
      "C:\\Users\\m_ron\\Anaconda3\\envs\\PythonData\\lib\\site-packages\\pymysql\\cursors.py:170: Warning: (3719, \"'utf8' is currently an alias for the character set UTF8MB3, which will be replaced by UTF8MB4 in a future release. Please consider using UTF8MB4 in order to be unambiguous.\")\n",
      "  result = self._query(query)\n"
     ]
    },
    {
     "data": {
      "text/plain": [
       "['candidate_finance',\n",
       " 'district_demographic',\n",
       " 'fips',\n",
       " 'house_candidate',\n",
       " 'us_congress',\n",
       " 'us_congress_member',\n",
       " 'us_congressional_district']"
      ]
     },
     "execution_count": 12,
     "metadata": {},
     "output_type": "execute_result"
    }
   ],
   "source": [
    "engine.table_names()"
   ]
  },
  {
   "cell_type": "code",
   "execution_count": 13,
   "metadata": {},
   "outputs": [],
   "source": [
    "employment1_df.to_sql(name='us_congressional_district', con=engine, if_exists='append', index=False)"
   ]
  },
  {
   "cell_type": "code",
   "execution_count": 14,
   "metadata": {},
   "outputs": [
    {
     "data": {
      "text/html": [
       "<div>\n",
       "<style scoped>\n",
       "    .dataframe tbody tr th:only-of-type {\n",
       "        vertical-align: middle;\n",
       "    }\n",
       "\n",
       "    .dataframe tbody tr th {\n",
       "        vertical-align: top;\n",
       "    }\n",
       "\n",
       "    .dataframe thead th {\n",
       "        text-align: right;\n",
       "    }\n",
       "</style>\n",
       "<table border=\"1\" class=\"dataframe\">\n",
       "  <thead>\n",
       "    <tr style=\"text-align: right;\">\n",
       "      <th></th>\n",
       "      <th>id</th>\n",
       "      <th>state_dist</th>\n",
       "      <th>state</th>\n",
       "      <th>district</th>\n",
       "    </tr>\n",
       "  </thead>\n",
       "  <tbody>\n",
       "    <tr>\n",
       "      <th>0</th>\n",
       "      <td>1</td>\n",
       "      <td>AL_01</td>\n",
       "      <td>AL</td>\n",
       "      <td>01</td>\n",
       "    </tr>\n",
       "    <tr>\n",
       "      <th>1</th>\n",
       "      <td>2</td>\n",
       "      <td>AL_02</td>\n",
       "      <td>AL</td>\n",
       "      <td>02</td>\n",
       "    </tr>\n",
       "    <tr>\n",
       "      <th>2</th>\n",
       "      <td>3</td>\n",
       "      <td>AL_03</td>\n",
       "      <td>AL</td>\n",
       "      <td>03</td>\n",
       "    </tr>\n",
       "    <tr>\n",
       "      <th>3</th>\n",
       "      <td>4</td>\n",
       "      <td>AL_04</td>\n",
       "      <td>AL</td>\n",
       "      <td>04</td>\n",
       "    </tr>\n",
       "    <tr>\n",
       "      <th>4</th>\n",
       "      <td>5</td>\n",
       "      <td>AL_05</td>\n",
       "      <td>AL</td>\n",
       "      <td>05</td>\n",
       "    </tr>\n",
       "  </tbody>\n",
       "</table>\n",
       "</div>"
      ],
      "text/plain": [
       "   id state_dist state district\n",
       "0   1      AL_01    AL       01\n",
       "1   2      AL_02    AL       02\n",
       "2   3      AL_03    AL       03\n",
       "3   4      AL_04    AL       04\n",
       "4   5      AL_05    AL       05"
      ]
     },
     "execution_count": 14,
     "metadata": {},
     "output_type": "execute_result"
    }
   ],
   "source": [
    "#confirm successful deposit into MySQL table\n",
    "pd.read_sql_query('select * from us_congressional_district', con=engine).head()"
   ]
  },
  {
   "cell_type": "code",
   "execution_count": null,
   "metadata": {},
   "outputs": [],
   "source": []
  }
 ],
 "metadata": {
  "kernelspec": {
   "display_name": "Python [conda env:PythonData]",
   "language": "python",
   "name": "conda-env-PythonData-py"
  },
  "language_info": {
   "codemirror_mode": {
    "name": "ipython",
    "version": 3
   },
   "file_extension": ".py",
   "mimetype": "text/x-python",
   "name": "python",
   "nbconvert_exporter": "python",
   "pygments_lexer": "ipython3",
   "version": "3.6.5"
  }
 },
 "nbformat": 4,
 "nbformat_minor": 2
}
